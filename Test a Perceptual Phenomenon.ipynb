{
 "cells": [
  {
   "cell_type": "markdown",
   "metadata": {},
   "source": [
    "### Analyzing the Stroop Effect\n",
    "\n",
    "The effect is named after John Ridley Stroop, the effect was published in 1929. A psychological test was created based on the Stroop effect and is widely used in clinical practice and became the standard test of studies on attention, with over 700 studies sought to explain some nuance of the Stroop effect.\n",
    "\n",
    "#### Background Information\n",
    "In a Stroop task, participants are presented with a list of words, with each word displayed in a color of ink. The participant’s task is to say out loud the color of the ink in which the word is printed. The task has two conditions: a congruent words condition, and an incongruent words condition. In the congruent words condition, the words being displayed are color words whose names match the colors in which they are printed. In the incongruent words condition, the words displayed are color words whose names do not match the colors in which they are printed. In each case, we measure the time it takes to name the ink colors in equally-sized lists. Each participant will go through and record a time from each condition."
   ]
  },
  {
   "cell_type": "markdown",
   "metadata": {},
   "source": [
    "**Independent variable** is a variable which is intentionally manipulated or selected by an experimenter in order to determine its effect on the dependent variable.\n",
    "**Dependent variable** is a responce variable being measured, the changes of dependent variables are associated with changes in the independent variables.\n",
    "\n",
    "For instance, in a Stroop experiment the congruent and incongruent word sets can be considered an independent variable, thus dependent variable will be the time it took a subject to name the words and colours in a set."
   ]
  },
  {
   "cell_type": "markdown",
   "metadata": {},
   "source": [
    "### Deriving hypothesis"
   ]
  },
  {
   "cell_type": "markdown",
   "metadata": {},
   "source": [
    "By performing the following test we aim to determine whether the Stroop Test has a tangible effect on a participants' responce time.  \n",
    "\n",
    "Null hypothesis: The mean time it takes a participant to read congruent set of words *$\\mu_{con}$* is equal or greater than mean time for incongruent set of words.  \n",
    "Alternative hypothesis: The mean time it takes a participant to read congruent set of words *$\\mu_{con}$* is significantly lower than mean time for incongruent set of words *$\\mu_{inc}$*.\n",
    "$$ H_0: \\mu_{con} - \\mu_{inc} \\geq 0$$\n",
    "$$ H_1: \\mu_{con} - \\mu_{inc} < 0$$"
   ]
  },
  {
   "cell_type": "markdown",
   "metadata": {},
   "source": [
    "### Descriptive statistics."
   ]
  },
  {
   "cell_type": "code",
   "execution_count": 38,
   "metadata": {},
   "outputs": [
    {
     "data": {
      "text/html": [
       "<div>\n",
       "<style>\n",
       "    .dataframe thead tr:only-child th {\n",
       "        text-align: right;\n",
       "    }\n",
       "\n",
       "    .dataframe thead th {\n",
       "        text-align: left;\n",
       "    }\n",
       "\n",
       "    .dataframe tbody tr th {\n",
       "        vertical-align: top;\n",
       "    }\n",
       "</style>\n",
       "<table border=\"1\" class=\"dataframe\">\n",
       "  <thead>\n",
       "    <tr style=\"text-align: right;\">\n",
       "      <th></th>\n",
       "      <th>Congruent</th>\n",
       "      <th>Incongruent</th>\n",
       "    </tr>\n",
       "  </thead>\n",
       "  <tbody>\n",
       "    <tr>\n",
       "      <th>0</th>\n",
       "      <td>12.079</td>\n",
       "      <td>19.278</td>\n",
       "    </tr>\n",
       "    <tr>\n",
       "      <th>1</th>\n",
       "      <td>16.791</td>\n",
       "      <td>18.741</td>\n",
       "    </tr>\n",
       "  </tbody>\n",
       "</table>\n",
       "</div>"
      ],
      "text/plain": [
       "   Congruent  Incongruent\n",
       "0     12.079       19.278\n",
       "1     16.791       18.741"
      ]
     },
     "execution_count": 38,
     "metadata": {},
     "output_type": "execute_result"
    }
   ],
   "source": [
    "import pandas as pd\n",
    "import numpy as np\n",
    "from scipy import stats\n",
    "import matplotlib.pyplot as plt\n",
    "plt.style.use('fivethirtyeight')\n",
    "%matplotlib inline\n",
    "\n",
    "# Load the data\n",
    "df = pd.read_csv('stroopdata.csv')\n",
    "df.head(2)"
   ]
  },
  {
   "cell_type": "code",
   "execution_count": 39,
   "metadata": {},
   "outputs": [
    {
     "name": "stdout",
     "output_type": "stream",
     "text": [
      "<class 'pandas.core.frame.DataFrame'>\n",
      "RangeIndex: 24 entries, 0 to 23\n",
      "Data columns (total 2 columns):\n",
      "Congruent      24 non-null float64\n",
      "Incongruent    24 non-null float64\n",
      "dtypes: float64(2)\n",
      "memory usage: 464.0 bytes\n"
     ]
    }
   ],
   "source": [
    "df.info()"
   ]
  },
  {
   "cell_type": "markdown",
   "metadata": {},
   "source": [
    "This small dataset is clean with no null values, there is no need to clean or alter the data."
   ]
  },
  {
   "cell_type": "code",
   "execution_count": 40,
   "metadata": {},
   "outputs": [
    {
     "name": "stdout",
     "output_type": "stream",
     "text": [
      "Mean \n",
      " Congruent: 14.0511 \n",
      " Incongruent: 22.0159\n"
     ]
    }
   ],
   "source": [
    "# Calculate Mean\n",
    "mean_con = round(df['Congruent'].mean(),4)\n",
    "mean_inc = round(df['Incongruent'].mean(),4)\n",
    "print('Mean \\n Congruent: {} \\n Incongruent: {}'.format(mean_con,mean_inc))"
   ]
  },
  {
   "cell_type": "code",
   "execution_count": 41,
   "metadata": {},
   "outputs": [
    {
     "name": "stdout",
     "output_type": "stream",
     "text": [
      "Madian\n",
      " Congruent: 14.3565 \n",
      " Incongruent: 21.0175\n"
     ]
    }
   ],
   "source": [
    "# Calculate Median\n",
    "med_con = round(df['Congruent'].median(),4)\n",
    "med_inc = round(df['Incongruent'].median(),4)\n",
    "print('Madian\\n Congruent: {} \\n Incongruent: {}'.format(med_con,med_inc))"
   ]
  },
  {
   "cell_type": "code",
   "execution_count": 42,
   "metadata": {},
   "outputs": [
    {
     "name": "stdout",
     "output_type": "stream",
     "text": [
      "Standard Deviation \n",
      " Congruent: 3.5594\n",
      " Incongruent: 4.7971\n"
     ]
    }
   ],
   "source": [
    "# Calculate Standard Deviation\n",
    "std_con = round(df['Congruent'].std(),4)\n",
    "std_inc = round(df['Incongruent'].std(),4)\n",
    "print('Standard Deviation \\n Congruent: {}\\n Incongruent: {}'.format(std_con,std_inc))"
   ]
  },
  {
   "cell_type": "code",
   "execution_count": 43,
   "metadata": {},
   "outputs": [
    {
     "name": "stdout",
     "output_type": "stream",
     "text": [
      "Variance \n",
      " Congruent: 12.669 \n",
      " Incongruent: 23.0118\n"
     ]
    }
   ],
   "source": [
    "# Calculate Variance\n",
    "var_con = round(df['Congruent'].var(),4)\n",
    "var_inc = round(df['Incongruent'].var(),4)\n",
    "print('Variance \\n Congruent: {} \\n Incongruent: {}'.format(var_con,var_inc))"
   ]
  },
  {
   "cell_type": "code",
   "execution_count": 44,
   "metadata": {},
   "outputs": [
    {
     "name": "stdout",
     "output_type": "stream",
     "text": [
      "Inter Quartile Range \n",
      " Congruent: 4.3055 \n",
      " Incongruent: 5.3348\n"
     ]
    }
   ],
   "source": [
    "# Calculate Inter Quartile Range\n",
    "IQR_con = round(stats.iqr(df['Congruent']),4)\n",
    "IQR_inc = round(stats.iqr(df['Incongruent']),4)\n",
    "print('Inter Quartile Range \\n Congruent: {} \\n Incongruent: {}'.format(IQR_con,IQR_inc))"
   ]
  },
  {
   "cell_type": "code",
   "execution_count": 45,
   "metadata": {},
   "outputs": [
    {
     "name": "stdout",
     "output_type": "stream",
     "text": [
      "Mean of Difference: -7.9648 \n",
      "Standard Deviation of Difference: 4.8648\n"
     ]
    }
   ],
   "source": [
    "# Calculate the difference mean and standard deviation\n",
    "mean_diff = round((df['Congruent']-df['Incongruent']).mean(),4)\n",
    "mean_std = round((df['Congruent']-df['Incongruent']).std(),4)\n",
    "print('Mean of Difference: {} \\nStandard Deviation of Difference: {}'.format(mean_diff,mean_std))"
   ]
  },
  {
   "cell_type": "markdown",
   "metadata": {},
   "source": [
    "The mean responce time for participants reading Cingruent set of words (14.05 seconds) is observed to be signifficantly smaller than the responce time in the Incongruent condition (22.01 seconds). Looking at the Inter Quartile Range - Incongruent data is more spread.\n",
    "\n",
    "A T-test for paired samples will be used for this analysis for the following reasons: \n",
    "- The main objective is to see if there is a significant difference in the recognition times of Congruent and Incongruent word sets, from provided sample of 24 entries.\n",
    "- The data is quantitative and paired, meaning it holds measurements collected under two different conditions but from the same group of participants."
   ]
  },
  {
   "cell_type": "markdown",
   "metadata": {},
   "source": [
    "### Visualizations that show the distribution of the sample data."
   ]
  },
  {
   "cell_type": "code",
   "execution_count": 46,
   "metadata": {},
   "outputs": [
    {
     "data": {
      "image/png": "[encoded data removed]",
      "text/plain": [
       "<matplotlib.figure.Figure at 0x7fc6e48aa358>"
      ]
     },
     "metadata": {},
     "output_type": "display_data"
    }
   ],
   "source": [
    "# Combined distribution\n",
    "df.plot.hist(title='Figure 1. Stroop Data distribution', stacked=False, alpha = 0.6, bins = 12);\n",
    "plt.xlabel('Time to Completion (seconds)')\n",
    "plt.ylabel('Count');"
   ]
  },
  {
   "cell_type": "code",
   "execution_count": 47,
   "metadata": {},
   "outputs": [
    {
     "data": {
      "image/png": "[encoded data removed]",
      "text/plain": [
       "<matplotlib.figure.Figure at 0x7fc6e4a4b518>"
      ]
     },
     "metadata": {},
     "output_type": "display_data"
    }
   ],
   "source": [
    "df.plot.box(title='Figure 2. Responce time distribution')\n",
    "plt.ylabel('Time to Completion (seconds)');"
   ]
  },
  {
   "cell_type": "markdown",
   "metadata": {},
   "source": [
    "The histograms (Figure 1.) above demonstrate that data is slightly positively skewed.  \n",
    "The Box plots (Figure 2.) demonstrate that Incongruent data has 2 major outliers - the time of around 35 seconds.  \n",
    "Both illustrations reinforce the observations that, according to the data provided, the Congruent word set on average was read faster than the Incongruent word set.  "
   ]
  },
  {
   "cell_type": "markdown",
   "metadata": {},
   "source": [
    "### Statistical test\n",
    "\n",
    "From the provided hypothesis we perform one-tailed t-test where sample size is 24 and thus degrees of freedom is 23, Type I error threshhold is $\\alpha$ < 0.05. The critical t-value for this test is 1.714, determined by looking up the [table](https://cdn-images-1.medium.com/max/1600/1*0_EW4xt4le_SIrmO7z9FPA.png)."
   ]
  },
  {
   "cell_type": "code",
   "execution_count": 48,
   "metadata": {},
   "outputs": [
    {
     "data": {
      "text/plain": [
       "Ttest_relResult(statistic=-8.020706944109957, pvalue=4.1030005857111781e-08)"
      ]
     },
     "execution_count": 48,
     "metadata": {},
     "output_type": "execute_result"
    }
   ],
   "source": [
    "# Perform the t-test for paired samples\n",
    "stats.ttest_rel(df['Congruent'], df['Incongruent'])"
   ]
  },
  {
   "cell_type": "markdown",
   "metadata": {},
   "source": [
    "The t-statistic (-8.020) is over the t-critical value (1.714) under the degrees of freedom (23), this sugests that we should regect the null hypothesis. Lets confirm the observations hold by performing bootstrapping."
   ]
  },
  {
   "cell_type": "code",
   "execution_count": 52,
   "metadata": {},
   "outputs": [],
   "source": [
    "# Boot-strapping\n",
    "con_means, inc_means, diffs = [], [], []\n",
    "for _ in range(1000):\n",
    "    bootsamp = df.sample(df.shape[0], replace = True)\n",
    "    con_mean = (bootsamp['Congruent']).mean()\n",
    "    inc_mean = (bootsamp['Incongruent']).mean()\n",
    "    # append the info \n",
    "    con_means.append(con_mean)\n",
    "    inc_means.append(inc_mean)\n",
    "    diffs.append(con_mean - inc_mean)"
   ]
  },
  {
   "cell_type": "code",
   "execution_count": 53,
   "metadata": {},
   "outputs": [
    {
     "data": {
      "image/png": "[encoded data removed]",
      "text/plain": [
       "<matplotlib.figure.Figure at 0x7fc6e494f780>"
      ]
     },
     "metadata": {},
     "output_type": "display_data"
    }
   ],
   "source": [
    "plt.hist(diffs)\n",
    "plt.title('Stroop data sampling distribution')\n",
    "# Where is our observed mean diference?\n",
    "plt.axvline(mean_diff, c='red');"
   ]
  },
  {
   "cell_type": "code",
   "execution_count": 55,
   "metadata": {},
   "outputs": [
    {
     "data": {
      "image/png": "[encoded data removed]",
      "text/plain": [
       "<matplotlib.figure.Figure at 0x7fc6e4a8cf60>"
      ]
     },
     "metadata": {},
     "output_type": "display_data"
    }
   ],
   "source": [
    "null_vals = np.random.normal(0, np.std(diffs), 1000) # Here are 1000 draws from the sampling distribution under the null\n",
    "# Plot the sampling distribution of differences under the nul\n",
    "plt.hist(null_vals)\n",
    "plt.title('Sampling distribution under the null')\n",
    "# Where is our observed mean diference?\n",
    "plt.axvline(mean_diff, c='red');"
   ]
  },
  {
   "cell_type": "markdown",
   "metadata": {},
   "source": [
    "Looking at the diagram above there is a very strong indication that the null hypothesis does not hold."
   ]
  },
  {
   "cell_type": "markdown",
   "metadata": {},
   "source": [
    "We reject the null in favour of alternative hypothesis because the t-statistic (-8.020) is over the t-critical value (1.714) under the degrees of freedom (23). Concluding that participants in a given test have significantly lower response time on the congruent word set compared to incongruent word set. These results are in accordance with the observations and expectation above."
   ]
  },
  {
   "cell_type": "markdown",
   "metadata": {},
   "source": [
    "### Further thoughts."
   ]
  },
  {
   "cell_type": "markdown",
   "metadata": {},
   "source": [
    "Reading is considered an automated cognitive task, while recalling of colours requires a more complex cognitive activity. There is a large number of similar tasks that demonstrate Stroop Effect, for instance the picture-word interference (PWI) task, where a conflicting word is embedded in a picture. As with the classic version of the task naming what is shown on a picture takes longer on average than reading the written word."
   ]
  },
  {
   "cell_type": "markdown",
   "metadata": {},
   "source": [
    "### Resources\n",
    "Stroop Effect: [JR. Studies of Interference in Serial Verbal Reactions](http://psychclassics.yorku.ca/Stroop/).  \n",
    "PWI, variant of the Stroop task: [Picture-word interference is a Stroop effect](https://www.ncbi.nlm.nih.gov/pmc/articles/PMC5486857/)  \n",
    "T-test using Python and Numpy: [Towards Data Science](https://towardsdatascience.com/inferential-statistics-series-t-test-using-numpy-2718f8f9bf2f)."
   ]
  }
 ],
 "metadata": {
  "kernelspec": {
   "display_name": "Python [default]",
   "language": "python",
   "name": "python3"
  },
  "language_info": {
   "codemirror_mode": {
    "name": "ipython",
    "version": 3
   },
   "file_extension": ".py",
   "mimetype": "text/x-python",
   "name": "python",
   "nbconvert_exporter": "python",
   "pygments_lexer": "ipython3",
   "version": "3.6.3"
  }
 },
 "nbformat": 4,
 "nbformat_minor": 2
}
